{
 "cells": [
  {
   "cell_type": "code",
   "execution_count": null,
   "metadata": {
    "_uuid": "a1c109381fed17cb9a74f6399d79d8dd8e8a1779"
   },
   "outputs": [],
   "source": [
    "%matplotlib inline\n",
    "%reload_ext autoreload\n",
    "%autoreload 2"
   ]
  },
  {
   "cell_type": "code",
   "execution_count": null,
   "metadata": {
    "_cell_guid": "b1076dfc-b9ad-4769-8c92-a6c4dae69d19",
    "_uuid": "8f2839f25d086af736a60e9eeb907d3b93b6e0e5"
   },
   "outputs": [],
   "source": [
    "import numpy as np \n",
    "import pandas as pd\n",
    "\n",
    "import fastai\n",
    "from fastai.tabular import *\n",
    "\n",
    "import os"
   ]
  },
  {
   "cell_type": "code",
   "execution_count": null,
   "metadata": {
    "_uuid": "1152c0745d7330581928cd1e5d727d13c4bd7822"
   },
   "outputs": [],
   "source": [
    "PATH = os.getcwd()\n",
    "PATH"
   ]
  },
  {
   "cell_type": "markdown",
   "metadata": {
    "_uuid": "0f24f4f598f52e947ba792a3fbef1051781e7d5b"
   },
   "source": [
    "# Load data\n",
    "Loaded train csv (split to train and validation) and test csv to Pandas df"
   ]
  },
  {
   "cell_type": "code",
   "execution_count": null,
   "metadata": {
    "_uuid": "d35abe9c47b9f8a03c027407839831a78b94e414"
   },
   "outputs": [],
   "source": [
    "def fillna_with_mean(df, fields=[]):\n",
    "    for f in fields:\n",
    "        df[f] = df[f].fillna(df[f].mean())"
   ]
  },
  {
   "cell_type": "code",
   "execution_count": null,
   "metadata": {
    "_uuid": "6782de914fac07a4cc7578c864abb53ae397da6a"
   },
   "outputs": [],
   "source": [
    "cat_names = ['MSSubClass', 'MSZoning', 'Street', 'LotShape', 'LandContour', 'Utilities', 'LotConfig', 'LandSlope', 'Neighborhood', 'BsmtCond',\n",
    "            'Condition1', 'Condition2', 'BldgType', 'HouseStyle', 'OverallQual', 'OverallCond', 'YearBuilt', 'YearRemodAdd', 'RoofStyle', 'RoofMatl',\n",
    "            'Exterior1st', 'Exterior2nd', 'MasVnrType', 'ExterQual', 'ExterCond', 'Foundation', 'BsmtQual', 'BsmtExposure', 'BsmtFinType1','BsmtFinType2',\n",
    "            'Heating', 'HeatingQC', 'CentralAir', 'Electrical', 'BsmtFullBath', 'BsmtHalfBath', 'FullBath', 'HalfBath', 'BedroomAbvGr', 'KitchenAbvGr', \n",
    "            'KitchenQual', 'TotRmsAbvGrd', 'Functional', 'Fireplaces', 'FireplaceQu', 'GarageType', 'GarageYrBlt', 'GarageFinish', 'GarageCars', 'GarageQual',\n",
    "            'GarageCond', 'PavedDrive', 'EnclosedPorch', '3SsnPorch', 'PoolArea', 'MoSold', 'YrSold', 'SaleType', 'SaleCondition', 'BsmtFinSF1', 'BsmtFinSF2']\n",
    "cont_names = ['LotFrontage', 'LotArea', 'MasVnrArea',    '1stFlrSF', '2ndFlrSF', 'LowQualFinSF',\n",
    "              'GrLivArea',  'WoodDeckSF', 'OpenPorchSF', 'ScreenPorch', 'MiscVal',\n",
    "#               'BsmtUnfSF', 'TotalBsmtSF', 'GarageArea',\n",
    "             ]\n",
    "all_columns = cat_names + cont_names\n",
    "dep_var = 'SalePrice'"
   ]
  },
  {
   "cell_type": "code",
   "execution_count": null,
   "metadata": {
    "_uuid": "89c8a7981541a3e6e30b840ad25d185593a24783"
   },
   "outputs": [],
   "source": [
    "# cat_names = ['YrSold', 'YearBuilt']\n",
    "# cont_names = ['LotArea']\n",
    "# dep_var = 'SalePrice'\n",
    "# all_columns = cat_names + cont_names"
   ]
  },
  {
   "cell_type": "code",
   "execution_count": null,
   "metadata": {
    "_uuid": "de401cadbc805a6b926a69d6c8bd3eec6af2467c"
   },
   "outputs": [],
   "source": [
    "dtypes_cat = {cat:'category' for cat in cat_names}\n",
    "dtypes_cont = {cont:np.float32 for cont in cont_names}\n",
    "dtypes = {**dtypes_cat, **dtypes_cont, dep_var:np.float32}\n",
    "dtypes"
   ]
  },
  {
   "cell_type": "code",
   "execution_count": null,
   "metadata": {
    "_cell_guid": "79c7e3d0-c299-4dcb-8224-4455121ee9b0",
    "_uuid": "d629ff2d2480ee46fbb7e2d37f6b5fab8052498a",
    "scrolled": false
   },
   "outputs": [],
   "source": [
    "train_csv_df = pd.read_csv('../input/train.csv', dtype=dtypes, na_values=['NA'])\n",
    "train_csv_df = train_csv_df[all_columns+[dep_var]]\n",
    "# train_csv_df['BsmtUnfSF'] = train_csv_df['BsmtUnfSF'].fillna(train_csv_df['BsmtUnfSF'].mean())\n",
    "# train_csv_df['TotalBsmtSF'] = train_csv_df['TotalBsmtSF'].fillna(train_csv_df['TotalBsmtSF'].mean())\n",
    "train_csv_df.info()"
   ]
  },
  {
   "cell_type": "code",
   "execution_count": null,
   "metadata": {
    "_uuid": "1c921f7d7634bb5633b0eb7ef37a27334ead33ef",
    "scrolled": true
   },
   "outputs": [],
   "source": [
    "# train_csv_df[train_csv_df['MasVnrArea'] == 0]['MasVnrArea']"
   ]
  },
  {
   "cell_type": "code",
   "execution_count": null,
   "metadata": {
    "_uuid": "ab3e611f05bfa7b62c64b1e7adb2669d906c0624"
   },
   "outputs": [],
   "source": [
    "test_csv_df = pd.read_csv('../input/test.csv', index_col='Id', dtype=dtypes)\n",
    "test_csv_df = test_csv_df[all_columns]\n",
    "# test_csv_df['BsmtUnfSF'] = test_csv_df['BsmtUnfSF'].fillna(test_csv_df['BsmtUnfSF'].mean())\n",
    "# test_csv_df['TotalBsmtSF'] = test_csv_df['TotalBsmtSF'].fillna(test_csv_df['TotalBsmtSF'].mean())\n",
    "test_csv_df.head()"
   ]
  },
  {
   "cell_type": "code",
   "execution_count": null,
   "metadata": {
    "_uuid": "ffec9dab8294bd7ae4cad033a6a798ef0579511a"
   },
   "outputs": [],
   "source": [
    "cont_columns_with_nans = ['BsmtUnfSF', 'TotalBsmtSF']"
   ]
  },
  {
   "cell_type": "code",
   "execution_count": null,
   "metadata": {
    "_uuid": "bb4805311a89ec2d03a63a8531151b5747f31404"
   },
   "outputs": [],
   "source": [
    "cat_sz = [(c, len(train_csv_df[c].cat.categories)+1) for c in cat_names]\n",
    "cat_sz"
   ]
  },
  {
   "cell_type": "code",
   "execution_count": null,
   "metadata": {
    "_uuid": "46cd4ea867c8b4c7fe82c42552c17739138b536b"
   },
   "outputs": [],
   "source": [
    "emb_szs = {c: min(50, (c+1)//2) for _,c in cat_sz}\n",
    "emb_szs"
   ]
  },
  {
   "cell_type": "markdown",
   "metadata": {
    "_uuid": "4d1b7f531d791bed1b02bd40b73db125214e2c69"
   },
   "source": [
    "# Preprocessing\n",
    "Data analysis and fields "
   ]
  },
  {
   "cell_type": "code",
   "execution_count": null,
   "metadata": {
    "_uuid": "cb40b69e4c8c6287f971df555d0cb8f2f6626524"
   },
   "outputs": [],
   "source": [
    "procs = [FillMissing, Categorify, Normalize]"
   ]
  },
  {
   "cell_type": "code",
   "execution_count": null,
   "metadata": {
    "_uuid": "a8be60a959483cc43477aed5071a61a5606ccdf5"
   },
   "outputs": [],
   "source": [
    "test_data = TabularList.from_df(test_csv_df, path=PATH, cat_names=cat_names, cont_names=cont_names, procs=procs, )"
   ]
  },
  {
   "cell_type": "code",
   "execution_count": null,
   "metadata": {
    "_kg_hide-output": false,
    "_uuid": "f46c68c8cbdc9267067768315e986b0f5607180f",
    "scrolled": true
   },
   "outputs": [],
   "source": [
    "data = (\n",
    "    TabularList.from_df(train_csv_df, cat_names=cat_names, cont_names=cont_names, procs=procs)\n",
    "        no_split()\n",
    "#         .random_split_by_pct(valid_pct=0.2, seed=1337)\n",
    "        .label_from_df(cols=dep_var, label_cls=FloatList)\n",
    "        .add_test(test_data)\n",
    "        .databunch(bs=128, num_workers=8 )\n",
    ")"
   ]
  },
  {
   "cell_type": "code",
   "execution_count": null,
   "metadata": {
    "_uuid": "c35ccc2bfd7048a1c57b293039e74aa620259576"
   },
   "outputs": [],
   "source": [
    "data.show_batch(rows=10)"
   ]
  },
  {
   "cell_type": "code",
   "execution_count": null,
   "metadata": {
    "_uuid": "92a5bc6d5af6df1f61fc88006caae144c4556955"
   },
   "outputs": [],
   "source": [
    "learner = tabular_learner(data, layers=[100], emb_drop=0.2, ps = 0.5, emb_szs=emb_szs,  \n",
    "                          metrics=[root_mean_squared_error])\n",
    "# learner.summary()"
   ]
  },
  {
   "cell_type": "code",
   "execution_count": null,
   "metadata": {
    "_uuid": "588ac4bdcfc05a27fa8357c608f5fa9ced4d4899"
   },
   "outputs": [],
   "source": [
    "# lr = 1\n",
    "# learner.lr_find()\n",
    "# learner.recorder.plot()"
   ]
  },
  {
   "cell_type": "code",
   "execution_count": null,
   "metadata": {
    "_uuid": "e3dc927c6fd6e7bb22e03c4ee8e8d2d1ba819033"
   },
   "outputs": [],
   "source": [
    "learner.fit(epochs=170, lr=0.1)"
   ]
  },
  {
   "cell_type": "code",
   "execution_count": null,
   "metadata": {
    "_uuid": "363d79657722ad66e6756fd2bf76503901dc9b58"
   },
   "outputs": [],
   "source": [
    "learner.recorder.plot_losses()"
   ]
  },
  {
   "cell_type": "code",
   "execution_count": null,
   "metadata": {
    "_uuid": "0e48cbf7a52e7915d7b1c183b8b89dc87fa39543"
   },
   "outputs": [],
   "source": [
    "predicted, _ = learner.get_preds(ds_type=DatasetType.Test)\n",
    "len(predicted)"
   ]
  },
  {
   "cell_type": "code",
   "execution_count": null,
   "metadata": {
    "_uuid": "aa767fa6b6d5a8f5da688519c85e88a5e194ebfc",
    "scrolled": true
   },
   "outputs": [],
   "source": [
    "test_csv_df_idx = test_csv_df.index.tolist()\n",
    "predicted_list = list(zip(test_csv_df_idx, sum(predicted.tolist(), [])))\n",
    "submittion_df = pd.DataFrame(data=predicted_list, columns=['Id','SalePrice'])\n",
    "print(submittion_df.shape)\n",
    "print(submittion_df.head())"
   ]
  },
  {
   "cell_type": "code",
   "execution_count": null,
   "metadata": {
    "_uuid": "aef085de0e16bfb685138d4988a82c4ddeb7a969"
   },
   "outputs": [],
   "source": [
    "submittion_file = 'submittion-v5-nn.csv'\n",
    "submittion_df.to_csv(submittion_file, index=False)"
   ]
  },
  {
   "cell_type": "code",
   "execution_count": null,
   "metadata": {
    "_uuid": "689196dc28bc5c2b940e7d646c3fce75de44da33"
   },
   "outputs": [],
   "source": [
    "from IPython.display import FileLink, FileLinks\n",
    "\n",
    "FileLink(submittion_file)"
   ]
  },
  {
   "cell_type": "code",
   "execution_count": null,
   "metadata": {
    "_uuid": "cd830a0a38adfc9151b93ca3c3efc1c4e37302f6"
   },
   "outputs": [],
   "source": [
    "\n",
    "\n",
    "\n",
    "\n",
    "\n",
    "\n",
    "\n",
    "\n",
    "\n"
   ]
  },
  {
   "cell_type": "code",
   "execution_count": null,
   "metadata": {
    "_uuid": "c36c1ec0b2ac4bad63af1c16676c6532c331e352"
   },
   "outputs": [],
   "source": []
  },
  {
   "cell_type": "code",
   "execution_count": null,
   "metadata": {
    "_uuid": "cc47507a6860d1000ef65111517eaa5e5077f2d9"
   },
   "outputs": [],
   "source": []
  },
  {
   "cell_type": "code",
   "execution_count": null,
   "metadata": {
    "_uuid": "a9f8195f6d0a5913ff872d6b4aec181622092928"
   },
   "outputs": [],
   "source": []
  }
 ],
 "metadata": {
  "kernelspec": {
   "display_name": "Python 3",
   "language": "python",
   "name": "python3"
  },
  "language_info": {
   "codemirror_mode": {
    "name": "ipython",
    "version": 3
   },
   "file_extension": ".py",
   "mimetype": "text/x-python",
   "name": "python",
   "nbconvert_exporter": "python",
   "pygments_lexer": "ipython3",
   "version": "3.6.6"
  }
 },
 "nbformat": 4,
 "nbformat_minor": 1
}
