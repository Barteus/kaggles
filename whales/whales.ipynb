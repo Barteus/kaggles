{
  "cells": [
    {
      "metadata": {
        "trusted": true,
        "_uuid": "4cd628b8e941442e888e5cbdb8eb35e2d7934e00"
      },
      "cell_type": "code",
      "source": "# Put these at the top of every notebook, to get automatic reloading and inline plotting\n%reload_ext autoreload\n%autoreload 2\n%matplotlib inline",
      "execution_count": 29,
      "outputs": []
    },
    {
      "metadata": {
        "_uuid": "8f2839f25d086af736a60e9eeb907d3b93b6e0e5",
        "_cell_guid": "b1076dfc-b9ad-4769-8c92-a6c4dae69d19",
        "trusted": true
      },
      "cell_type": "code",
      "source": "import fastai\nfrom fastai import * \nfrom fastai.vision import *\nfrom fastai.metrics import accuracy\nfrom fastai.basic_data import *\n\nimport pandas as pd\nimport numpy as np\n\nfastai.version.__version__",
      "execution_count": 30,
      "outputs": [
        {
          "output_type": "execute_result",
          "execution_count": 30,
          "data": {
            "text/plain": "'1.0.36.post1'"
          },
          "metadata": {}
        }
      ]
    },
    {
      "metadata": {
        "trusted": true,
        "_uuid": "9a5c0e89b70107ad2919f12fb436d89f17ef40f3"
      },
      "cell_type": "code",
      "source": "# make sure CUDA is available and enabled\nprint('CUDA enabled:',torch.cuda.is_available()) \nprint('CUDNN enabled:', torch.backends.cudnn.enabled)",
      "execution_count": 31,
      "outputs": [
        {
          "output_type": "stream",
          "text": "CUDA enabled: True\nCUDNN enabled: True\n",
          "name": "stdout"
        }
      ]
    },
    {
      "metadata": {
        "trusted": true,
        "_uuid": "9a36229a0b6a7461239b45b3799f6bfcaf65942a"
      },
      "cell_type": "code",
      "source": "def recreate_directory(directory):\n    !rm -R {directory} 2>nul\n    !mkdir {directory}",
      "execution_count": 32,
      "outputs": []
    },
    {
      "metadata": {
        "_uuid": "8e2ece3999c4b822b254b0c5ac0c8717873f43c5"
      },
      "cell_type": "markdown",
      "source": "# Dataset preprocessing"
    },
    {
      "metadata": {
        "trusted": true,
        "_uuid": "43e1b0f1ffd598eabfc396627132ae4c69609afe"
      },
      "cell_type": "code",
      "source": "input_path ='/kaggle/input'\nwork_dir = '/kaggle/working'\ntrain_dir = f\"{input_path}/train\"\ntrain_labels = f\"{input_path}/train.csv\"\ntest_dir = f\"{input_path}/test\"\nworkdir_train_labels = f\"{work_dir}/train.csv\"\nworkdir_train = f\"{work_dir}/train\"",
      "execution_count": 33,
      "outputs": []
    },
    {
      "metadata": {
        "trusted": true,
        "_uuid": "129ddb082401c4ad4a7d79d7d70c14071db9f545"
      },
      "cell_type": "code",
      "source": "labels_df = pd.read_csv(train_labels)\nprint(labels_df.shape)\nlabels_df = labels_df.sample(frac=0.02)\nprint(labels_df.shape)",
      "execution_count": 34,
      "outputs": [
        {
          "output_type": "stream",
          "text": "(25361, 2)\n(507, 2)\n",
          "name": "stdout"
        }
      ]
    },
    {
      "metadata": {
        "trusted": true,
        "_uuid": "cf2953dab3586b28e55ff83451ff700d22f9c87f"
      },
      "cell_type": "code",
      "source": "labels_df.to_csv(workdir_train_labels, index=False)",
      "execution_count": 40,
      "outputs": []
    },
    {
      "metadata": {
        "trusted": true,
        "_uuid": "4cf61bd40cf49deb3f1bd7646f7b9f99eb7def9c"
      },
      "cell_type": "code",
      "source": "recreate_directory(workdir_train)",
      "execution_count": 35,
      "outputs": []
    },
    {
      "metadata": {
        "trusted": true,
        "_uuid": "0097f05500e7f5639bcde6ecd4cb51f78b53079e"
      },
      "cell_type": "code",
      "source": "recreate_directory(workdir_train)\nfor img in labels_df['Image']:\n    !cp {train_dir}/{img} {workdir_train}/{img}",
      "execution_count": 37,
      "outputs": []
    },
    {
      "metadata": {
        "_uuid": "a76c062770ca85d9455e5d321589c670712d64f8"
      },
      "cell_type": "markdown",
      "source": "## Train model"
    },
    {
      "metadata": {
        "trusted": true,
        "_uuid": "4a06593f44c84d7854a6969cc130562b454eec52"
      },
      "cell_type": "code",
      "source": "SZ = 224\nBS = 64\nNUM_WORKERS = 0\nSEED=0\narch = models.resnet18",
      "execution_count": 38,
      "outputs": []
    },
    {
      "metadata": {
        "trusted": true,
        "_uuid": "ee1cd8e07e8c61f335aa8fbb43e54930742a1d26"
      },
      "cell_type": "code",
      "source": "data = (\n    ImageDataBunch\n        .from_csv(path=workdir_train, csv_labels=workdir_train_labels, ds_tfms=get_transforms(), \n                  size=SZ,num_workers=NUM_WORKERS, test=test_dir)\n#         .databunch(bs=BS, num_workers=NUM_WORKERS, path='../input')\n#         .transform(get_transforms(do_flip=False), size=SZ, resize_method=ResizeMethod.SQUISH)\n#         .normalize(imagenet_stats)\n)",
      "execution_count": 41,
      "outputs": []
    },
    {
      "metadata": {
        "trusted": true,
        "_uuid": "275457a7f205755262c082d14e094e81ffa8a524"
      },
      "cell_type": "code",
      "source": "# data.show_batch(rows=3, fig_size=(SZ, SZ))",
      "execution_count": null,
      "outputs": []
    },
    {
      "metadata": {
        "_uuid": "334cca0dc05d490c8810c0e958329228fcb335ca"
      },
      "cell_type": "markdown",
      "source": "# Learning rate"
    },
    {
      "metadata": {
        "trusted": true,
        "_uuid": "a96728a91db038fa8642fda40f827bac49f03428"
      },
      "cell_type": "code",
      "source": "learn = create_cnn(data, arch, metrics=accuracy, model_dir=f\"{work_dir}/model\")",
      "execution_count": 42,
      "outputs": []
    },
    {
      "metadata": {
        "trusted": true,
        "_uuid": "29beefec4f9b6e9c02986232f4901ecdbaaf3cbc"
      },
      "cell_type": "code",
      "source": "learn.lr_find()",
      "execution_count": 43,
      "outputs": [
        {
          "output_type": "stream",
          "text": "LR Finder is complete, type {learner_name}.recorder.plot() to see the graph.\n",
          "name": "stdout"
        }
      ]
    },
    {
      "metadata": {
        "trusted": true,
        "_uuid": "d51e41062c43847ea3de2defc868a1d2f46e2bc8"
      },
      "cell_type": "code",
      "source": "learn.recorder.plot()",
      "execution_count": 44,
      "outputs": [
        {
          "output_type": "display_data",
          "data": {
            "text/plain": "<Figure size 432x288 with 1 Axes>",
            "image/png": "[encoded data removed]"
          },
          "metadata": {}
        }
      ]
    },
    {
      "metadata": {
        "_uuid": "5aadd9cf12f64d2b30bf69e7cc8e179dc6519d94"
      },
      "cell_type": "markdown",
      "source": "# Precompute"
    },
    {
      "metadata": {
        "trusted": true,
        "_uuid": "fa7a8b0f162c878f42d450e361f6f45424a1b6ec"
      },
      "cell_type": "code",
      "source": "lr_rate = 1e-2\nlearn = create_cnn(data, arch, metrics=accuracy, model_dir=f\"{work_dir}/model2\")\nlearn.freeze_to(-1)",
      "execution_count": 45,
      "outputs": []
    },
    {
      "metadata": {
        "trusted": true,
        "_uuid": "7d266772a422156ec08c83f5bdd5e9317551a9ee"
      },
      "cell_type": "code",
      "source": "learn.fit(1, lr_rate)",
      "execution_count": 46,
      "outputs": [
        {
          "output_type": "display_data",
          "data": {
            "text/plain": "<IPython.core.display.HTML object>",
            "text/html": "Total time: 00:20 <p><table style='width:300px; margin-bottom:10px'>\n  <tr>\n    <th>epoch</th>\n    <th>train_loss</th>\n    <th>valid_loss</th>\n    <th>accuracy</th>\n  </tr>\n  <tr>\n    <th>1</th>\n    <th>5.729465</th>\n    <th>7.710929</th>\n    <th>0.039604</th>\n  </tr>\n</table>\n"
          },
          "metadata": {}
        }
      ]
    },
    {
      "metadata": {
        "trusted": true,
        "_uuid": "2868acb739979e65e95e730e99f6206541f87293"
      },
      "cell_type": "code",
      "source": "# learn few epochs with unfreeze\nlearn.unfreeze()",
      "execution_count": 47,
      "outputs": []
    },
    {
      "metadata": {
        "trusted": true,
        "_uuid": "ef3dbe4998bc4a1e9af091671555769f08ad2904"
      },
      "cell_type": "code",
      "source": "learn.fit(5, [lr_rate/100, lr_rate/10, lr_rate])",
      "execution_count": 48,
      "outputs": [
        {
          "output_type": "display_data",
          "data": {
            "text/plain": "<IPython.core.display.HTML object>",
            "text/html": "Total time: 01:43 <p><table style='width:300px; margin-bottom:10px'>\n  <tr>\n    <th>epoch</th>\n    <th>train_loss</th>\n    <th>valid_loss</th>\n    <th>accuracy</th>\n  </tr>\n  <tr>\n    <th>1</th>\n    <th>4.870755</th>\n    <th>2.911143</th>\n    <th>0.594059</th>\n  </tr>\n  <tr>\n    <th>2</th>\n    <th>4.381713</th>\n    <th>6.916470</th>\n    <th>0.158416</th>\n  </tr>\n  <tr>\n    <th>3</th>\n    <th>4.021190</th>\n    <th>1.456107</th>\n    <th>0.752475</th>\n  </tr>\n  <tr>\n    <th>4</th>\n    <th>3.683061</th>\n    <th>1.912359</th>\n    <th>0.643564</th>\n  </tr>\n  <tr>\n    <th>5</th>\n    <th>3.345231</th>\n    <th>2.592554</th>\n    <th>0.504951</th>\n  </tr>\n</table>\n"
          },
          "metadata": {}
        }
      ]
    },
    {
      "metadata": {
        "_uuid": "b52df88f2636cabf40de22b5eb7b856ff6b3cb42"
      },
      "cell_type": "markdown",
      "source": "# Prediction"
    },
    {
      "metadata": {
        "trusted": true,
        "_uuid": "dc654b07a8d9e7f27024c395addb6cf59aa0fb6c"
      },
      "cell_type": "code",
      "source": "log_preds,y = learn.TTA()",
      "execution_count": 49,
      "outputs": [
        {
          "output_type": "display_data",
          "data": {
            "text/plain": "<IPython.core.display.HTML object>",
            "text/html": "Total time: 00:38 <p>"
          },
          "metadata": {}
        }
      ]
    },
    {
      "metadata": {
        "trusted": true,
        "_uuid": "195ecd9e36b231dd716168f82be103817cb825df"
      },
      "cell_type": "code",
      "source": "log_preds, y = learn.get_preds(DatasetType.Test)",
      "execution_count": 63,
      "outputs": []
    },
    {
      "metadata": {
        "trusted": true,
        "_uuid": "9111a018f41dbaa050961df85a89a889730cb66a"
      },
      "cell_type": "code",
      "source": "preds = torch.cat((log_preds, torch.ones_like(log_preds[:, :1])), 1)",
      "execution_count": 76,
      "outputs": []
    },
    {
      "metadata": {
        "trusted": true,
        "_uuid": "0cf4570ceb0159d76c33f1f20a7e5e69a775ecc0"
      },
      "cell_type": "code",
      "source": "preds.shape",
      "execution_count": 79,
      "outputs": [
        {
          "output_type": "execute_result",
          "execution_count": 79,
          "data": {
            "text/plain": "torch.Size([7960, 234])"
          },
          "metadata": {}
        }
      ]
    },
    {
      "metadata": {
        "_uuid": "44269f9d336f6b8781b0d2c87e752c4b01f177d2"
      },
      "cell_type": "markdown",
      "source": "# Submission - for now random submission"
    },
    {
      "metadata": {
        "trusted": true,
        "_uuid": "2ecba243b570a01a89ad71dba1297acbf5bf35ac"
      },
      "cell_type": "code",
      "source": "train_set = pd.read_csv(f\"{input_path}/train.csv\")\ntrain_set.head()",
      "execution_count": null,
      "outputs": []
    },
    {
      "metadata": {
        "trusted": true,
        "_uuid": "877351915dd912bd9d13def1f8e0853de400b918"
      },
      "cell_type": "code",
      "source": "unique_labels = train_set['Id'].unique()\nunique_labels.shape",
      "execution_count": null,
      "outputs": []
    },
    {
      "metadata": {
        "trusted": true,
        "_uuid": "0d2e1c24fe3770b689527c31f83aa8986d6b1b56"
      },
      "cell_type": "code",
      "source": "submission = pd.read_csv(f\"{input_path}/sample_submission.csv\")\nsubmission.head()",
      "execution_count": null,
      "outputs": []
    },
    {
      "metadata": {
        "trusted": true,
        "_uuid": "ee2b57ec43d4d134073f0155c08e96f8d13903a6"
      },
      "cell_type": "code",
      "source": "print(' '.join(np.append(np.random.choice(unique_labels, 4), 'new_whale')))\n",
      "execution_count": null,
      "outputs": []
    },
    {
      "metadata": {
        "trusted": true,
        "_uuid": "068b0155589413aa05b42f5b75276d28237f059c"
      },
      "cell_type": "code",
      "source": "submission['Id'] = submission['Id'].apply(lambda x : ' '.join(np.append(np.random.choice(unique_labels, 4), 'new_whale')))",
      "execution_count": null,
      "outputs": []
    },
    {
      "metadata": {
        "trusted": true,
        "_uuid": "72ab0cb8084e1a19180abc230cd298f5192d9739"
      },
      "cell_type": "code",
      "source": "print(submission.head())\nprint(submission.shape)",
      "execution_count": null,
      "outputs": []
    },
    {
      "metadata": {
        "trusted": true,
        "_uuid": "b9bfc432ff9dc7979eccb5e1420a0a73048cac44"
      },
      "cell_type": "code",
      "source": "submission.to_csv('submission.csv', index=False)",
      "execution_count": null,
      "outputs": []
    }
  ],
  "metadata": {
    "kernelspec": {
      "display_name": "Python 3",
      "language": "python",
      "name": "python3"
    },
    "language_info": {
      "name": "python",
      "version": "3.6.6",
      "mimetype": "text/x-python",
      "codemirror_mode": {
        "name": "ipython",
        "version": 3
      },
      "pygments_lexer": "ipython3",
      "nbconvert_exporter": "python",
      "file_extension": ".py"
    }
  },
  "nbformat": 4,
  "nbformat_minor": 1
}