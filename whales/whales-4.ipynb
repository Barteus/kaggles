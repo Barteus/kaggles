{
 "cells": [
  {
   "cell_type": "code",
   "execution_count": 1,
   "metadata": {
    "_uuid": "4cd628b8e941442e888e5cbdb8eb35e2d7934e00"
   },
   "outputs": [],
   "source": [
    "# Put these at the top of every notebook, to get automatic reloading and inline plotting\n",
    "%reload_ext autoreload\n",
    "%autoreload 2\n",
    "%matplotlib inline"
   ]
  },
  {
   "cell_type": "code",
   "execution_count": 2,
   "metadata": {
    "_cell_guid": "b1076dfc-b9ad-4769-8c92-a6c4dae69d19",
    "_uuid": "8f2839f25d086af736a60e9eeb907d3b93b6e0e5"
   },
   "outputs": [
    {
     "data": {
      "text/plain": [
       "'1.0.39'"
      ]
     },
     "execution_count": 2,
     "metadata": {},
     "output_type": "execute_result"
    }
   ],
   "source": [
    "import fastai\n",
    "from fastai import * \n",
    "from fastai.vision import *\n",
    "from fastai.metrics import accuracy\n",
    "from fastai.basic_data import *\n",
    "\n",
    "import pandas as pd\n",
    "import numpy as np\n",
    "import os\n",
    "\n",
    "fastai.version.__version__"
   ]
  },
  {
   "cell_type": "code",
   "execution_count": 3,
   "metadata": {
    "_uuid": "9a5c0e89b70107ad2919f12fb436d89f17ef40f3"
   },
   "outputs": [
    {
     "name": "stdout",
     "output_type": "stream",
     "text": [
      "CUDA enabled: True\n",
      "CUDNN enabled: True\n"
     ]
    }
   ],
   "source": [
    "# make sure CUDA is available and enabled\n",
    "print('CUDA enabled:',torch.cuda.is_available()) \n",
    "print('CUDNN enabled:', torch.backends.cudnn.enabled)"
   ]
  },
  {
   "cell_type": "code",
   "execution_count": 4,
   "metadata": {
    "_uuid": "9a36229a0b6a7461239b45b3799f6bfcaf65942a"
   },
   "outputs": [],
   "source": [
    "def recreate_directory(directory):\n",
    "    !rm -R {directory} 2>nul\n",
    "    !mkdir {directory}"
   ]
  },
  {
   "cell_type": "markdown",
   "metadata": {
    "_uuid": "8e2ece3999c4b822b254b0c5ac0c8717873f43c5"
   },
   "source": [
    "# Dataset preprocessing"
   ]
  },
  {
   "cell_type": "code",
   "execution_count": 5,
   "metadata": {
    "_uuid": "43e1b0f1ffd598eabfc396627132ae4c69609afe"
   },
   "outputs": [],
   "source": [
    "current_dir = os.getcwd()\n",
    "input_path =f'{current_dir}/data'\n",
    "train_dir = f\"{input_path}/train\"\n",
    "train_labels = f\"{input_path}/train.csv\"\n",
    "test_dir = f\"{input_path}/test\"\n",
    "model_dir = f'{current_dir}/models'"
   ]
  },
  {
   "cell_type": "markdown",
   "metadata": {
    "_uuid": "a76c062770ca85d9455e5d321589c670712d64f8"
   },
   "source": [
    "## Train model"
   ]
  },
  {
   "cell_type": "code",
   "execution_count": 6,
   "metadata": {
    "_uuid": "4a06593f44c84d7854a6969cc130562b454eec52"
   },
   "outputs": [],
   "source": [
    "SZ = 224\n",
    "BS = 64\n",
    "NUM_WORKERS = 12\n",
    "SEED=0\n",
    "arch = models.resnet50"
   ]
  },
  {
   "cell_type": "code",
   "execution_count": 7,
   "metadata": {},
   "outputs": [
    {
     "name": "stdout",
     "output_type": "stream",
     "text": [
      "(25361, 2)\n",
      "           Image         Id\n",
      "0  0000e88ab.jpg  w_f48451c\n",
      "1  0001f9222.jpg  w_c3d896a\n",
      "2  00029d126.jpg  w_20df2c5\n",
      "3  00050a15a.jpg  new_whale\n",
      "4  0005c1ef8.jpg  new_whale\n"
     ]
    }
   ],
   "source": [
    "df = pd.read_csv(train_labels)\n",
    "# df = df.sample(frac=0.25)\n",
    "# df = df.reset_index()\n",
    "\n",
    "print(df.shape)\n",
    "print(df.head())"
   ]
  },
  {
   "cell_type": "code",
   "execution_count": 8,
   "metadata": {},
   "outputs": [],
   "source": [
    "# grouped_df = df.groupby('Id')\n",
    "# grouped_counted = grouped_df.count().sort_values(by=['Image'], ascending=False)\n",
    "# grouped_counted = grouped_counted[(grouped_counted['Image']>5) & (grouped_counted['Image']<1000)]\n",
    "# print(len(grouped_counted))\n",
    "# print(grouped_counted.sum().Image, 'of', len(df))\n",
    "# print(grouped_counted.head())"
   ]
  },
  {
   "cell_type": "code",
   "execution_count": 9,
   "metadata": {},
   "outputs": [],
   "source": [
    "# valid_pct = 0.2\n",
    "\n",
    "# valid_filenames = pd.DataFrame(columns=df.columns)\n",
    "\n",
    "# for name, group in enumerate(grouped_df):\n",
    "#     sub_df = group[1]\n",
    "#     sample = sub_df.sample(frac=valid_pct)\n",
    "#     valid_filenames = valid_filenames.append(sample, ignore_index=True)"
   ]
  },
  {
   "cell_type": "code",
   "execution_count": 10,
   "metadata": {},
   "outputs": [],
   "source": [
    "# valid_filenames.drop(labels=['index'], axis=1, inplace=True, errors='ignore')\n",
    "\n",
    "# print(valid_filenames.shape)\n",
    "# print(valid_filenames.head())"
   ]
  },
  {
   "cell_type": "code",
   "execution_count": 11,
   "metadata": {
    "scrolled": true
   },
   "outputs": [],
   "source": [
    "fn2label = {row[1].Image: row[1].Id for row in df.iterrows()}\n",
    "path2fn = lambda path: re.search('\\w*\\.jpg$', path).group(0)"
   ]
  },
  {
   "cell_type": "code",
   "execution_count": 12,
   "metadata": {},
   "outputs": [],
   "source": [
    "# valid_files = ItemList.from_df(df=valid_filenames, path=train_dir, cols=['Image'])"
   ]
  },
  {
   "cell_type": "code",
   "execution_count": 13,
   "metadata": {},
   "outputs": [],
   "source": [
    "test_files = ImageItemList.from_folder(test_dir)"
   ]
  },
  {
   "cell_type": "code",
   "execution_count": 14,
   "metadata": {
    "scrolled": true
   },
   "outputs": [],
   "source": [
    "# TODO label from df?\n",
    "# data = (\n",
    "#     ImageItemList\n",
    "#         .from_df(df, train_dir, cols=['Image'])\n",
    "# #         .no_split()\n",
    "#         .split_by_files(valid_files)\n",
    "#         .label_from_func(lambda path: fn2label[path2fn(path)])\n",
    "#         .add_test(test_files)\n",
    "#         .transform(get_transforms(do_flip=False), size=SZ, resize_method=ResizeMethod.SQUISH)\n",
    "#         .databunch(bs=BS, num_workers=NUM_WORKERS, path=input_path)\n",
    "#         .normalize(imagenet_stats)\n",
    "# )"
   ]
  },
  {
   "cell_type": "code",
   "execution_count": 15,
   "metadata": {
    "_uuid": "275457a7f205755262c082d14e094e81ffa8a524",
    "scrolled": true
   },
   "outputs": [],
   "source": [
    "#data.show_batch(rows=3, fig_size=(SZ, SZ))"
   ]
  },
  {
   "cell_type": "markdown",
   "metadata": {
    "_uuid": "334cca0dc05d490c8810c0e958329228fcb335ca"
   },
   "source": [
    "# Learning rate"
   ]
  },
  {
   "cell_type": "code",
   "execution_count": 16,
   "metadata": {},
   "outputs": [],
   "source": [
    "# data_lr = (\n",
    "#     ImageItemList\n",
    "#         .from_df(df, train_dir, cols=['Image'])\n",
    "# #         .no_split()\n",
    "#         .split_by_files(valid_files)\n",
    "#         .label_from_func(lambda path: fn2label[path2fn(path)])\n",
    "#         .add_test(test_files)\n",
    "#         .transform(get_transforms(do_flip=False), size=SZ, resize_method=ResizeMethod.SQUISH)\n",
    "#         .databunch(bs=BS, num_workers=NUM_WORKERS, path=input_path)\n",
    "#         .normalize(imagenet_stats)\n",
    "# )"
   ]
  },
  {
   "cell_type": "code",
   "execution_count": 17,
   "metadata": {
    "_uuid": "a96728a91db038fa8642fda40f827bac49f03428"
   },
   "outputs": [],
   "source": [
    "# learn = create_cnn(data_lr, arch, metrics=accuracy, model_dir=model_dir)"
   ]
  },
  {
   "cell_type": "code",
   "execution_count": 18,
   "metadata": {
    "_uuid": "29beefec4f9b6e9c02986232f4901ecdbaaf3cbc"
   },
   "outputs": [],
   "source": [
    "# learn.lr_find()"
   ]
  },
  {
   "cell_type": "code",
   "execution_count": 19,
   "metadata": {
    "_uuid": "d51e41062c43847ea3de2defc868a1d2f46e2bc8"
   },
   "outputs": [],
   "source": [
    "# learn.recorder.plot()"
   ]
  },
  {
   "cell_type": "markdown",
   "metadata": {
    "_uuid": "5aadd9cf12f64d2b30bf69e7cc8e179dc6519d94"
   },
   "source": [
    "# Precompute"
   ]
  },
  {
   "cell_type": "code",
   "execution_count": 20,
   "metadata": {},
   "outputs": [],
   "source": [
    "data = (\n",
    "    ImageItemList\n",
    "        .from_df(df, train_dir, cols=['Image'])\n",
    "        .no_split()\n",
    "#         .split_by_files(valid_files)\n",
    "        .label_from_func(lambda path: fn2label[path2fn(path)])\n",
    "        .add_test(test_files)\n",
    "        .transform(get_transforms(do_flip=False), size=SZ, resize_method=ResizeMethod.SQUISH)\n",
    "        .databunch(bs=BS, num_workers=NUM_WORKERS, path=input_path)\n",
    "        .normalize(imagenet_stats)\n",
    ")"
   ]
  },
  {
   "cell_type": "code",
   "execution_count": 21,
   "metadata": {
    "_uuid": "fa7a8b0f162c878f42d450e361f6f45424a1b6ec"
   },
   "outputs": [],
   "source": [
    "learn = create_cnn(data, arch, metrics=accuracy, model_dir=model_dir, callback_fns=ShowGraph)"
   ]
  },
  {
   "cell_type": "code",
   "execution_count": 22,
   "metadata": {
    "_uuid": "7d266772a422156ec08c83f5bdd5e9317551a9ee"
   },
   "outputs": [
    {
     "data": {
      "text/html": [
       "Total time: 40:21 <p><table style='width:300px; margin-bottom:10px'>\n",
       "  <tr>\n",
       "    <th>epoch</th>\n",
       "    <th>train_loss</th>\n",
       "    <th>valid_loss</th>\n",
       "    <th>accuracy</th>\n",
       "  </tr>\n",
       "  <tr>\n",
       "    <th>1</th>\n",
       "    <th>5.854063</th>\n",
       "  </tr>\n",
       "  <tr>\n",
       "    <th>2</th>\n",
       "    <th>5.288575</th>\n",
       "  </tr>\n",
       "  <tr>\n",
       "    <th>3</th>\n",
       "    <th>4.905551</th>\n",
       "  </tr>\n",
       "  <tr>\n",
       "    <th>4</th>\n",
       "    <th>4.404301</th>\n",
       "  </tr>\n",
       "  <tr>\n",
       "    <th>5</th>\n",
       "    <th>3.885807</th>\n",
       "  </tr>\n",
       "  <tr>\n",
       "    <th>6</th>\n",
       "    <th>3.518836</th>\n",
       "  </tr>\n",
       "</table>\n"
      ],
      "text/plain": [
       "<IPython.core.display.HTML object>"
      ]
     },
     "metadata": {},
     "output_type": "display_data"
    }
   ],
   "source": [
    "learn.fit_one_cycle(6, wd=1e-4, max_lr=1e-2)"
   ]
  },
  {
   "cell_type": "code",
   "execution_count": 23,
   "metadata": {
    "_uuid": "ef3dbe4998bc4a1e9af091671555769f08ad2904"
   },
   "outputs": [
    {
     "data": {
      "text/html": [
       "Total time: 1:10:11 <p><table style='width:300px; margin-bottom:10px'>\n",
       "  <tr>\n",
       "    <th>epoch</th>\n",
       "    <th>train_loss</th>\n",
       "    <th>valid_loss</th>\n",
       "    <th>accuracy</th>\n",
       "  </tr>\n",
       "  <tr>\n",
       "    <th>1</th>\n",
       "    <th>3.490147</th>\n",
       "  </tr>\n",
       "  <tr>\n",
       "    <th>2</th>\n",
       "    <th>3.761594</th>\n",
       "  </tr>\n",
       "  <tr>\n",
       "    <th>3</th>\n",
       "    <th>3.638691</th>\n",
       "  </tr>\n",
       "  <tr>\n",
       "    <th>4</th>\n",
       "    <th>3.445162</th>\n",
       "  </tr>\n",
       "  <tr>\n",
       "    <th>5</th>\n",
       "    <th>3.267688</th>\n",
       "  </tr>\n",
       "  <tr>\n",
       "    <th>6</th>\n",
       "    <th>2.980408</th>\n",
       "  </tr>\n",
       "  <tr>\n",
       "    <th>7</th>\n",
       "    <th>2.842627</th>\n",
       "  </tr>\n",
       "  <tr>\n",
       "    <th>8</th>\n",
       "    <th>2.751081</th>\n",
       "  </tr>\n",
       "</table>\n"
      ],
      "text/plain": [
       "<IPython.core.display.HTML object>"
      ]
     },
     "metadata": {},
     "output_type": "display_data"
    }
   ],
   "source": [
    "learn.unfreeze()\n",
    "lr_rate = 1e-3\n",
    "learn.fit_one_cycle(8, wd=1e-4, max_lr=[lr_rate/100, lr_rate/10, lr_rate])"
   ]
  },
  {
   "cell_type": "markdown",
   "metadata": {
    "_uuid": "b52df88f2636cabf40de22b5eb7b856ff6b3cb42"
   },
   "source": [
    "# Prediction & Summition - TODO"
   ]
  },
  {
   "cell_type": "code",
   "execution_count": 24,
   "metadata": {
    "_uuid": "dc654b07a8d9e7f27024c395addb6cf59aa0fb6c"
   },
   "outputs": [
    {
     "data": {
      "text/html": [
       "Total time: 15:45 <p>"
      ],
      "text/plain": [
       "<IPython.core.display.HTML object>"
      ]
     },
     "metadata": {},
     "output_type": "display_data"
    }
   ],
   "source": [
    "log_preds,y = learn.TTA(ds_type=DatasetType.Test)"
   ]
  },
  {
   "cell_type": "code",
   "execution_count": 25,
   "metadata": {},
   "outputs": [],
   "source": [
    "def top_preds(preds, classes):\n",
    "    top = np.argsort(preds.numpy())[:, ::-1][:, :5]\n",
    "    labels = []\n",
    "    for i in range(top.shape[0]):\n",
    "        labels.append(' '.join([classes[idx] for idx in top[i]]))\n",
    "    return labels\n",
    "\n",
    "def create_submission(preds, data):\n",
    "    classes = data.classes\n",
    "    sub_df = pd.DataFrame({'Image': [path.name for path in data.test_ds.x.items]})\n",
    "    sub_df['Id'] = top_preds(preds, classes)\n",
    "    return sub_df"
   ]
  },
  {
   "cell_type": "code",
   "execution_count": 26,
   "metadata": {
    "_uuid": "7c764a49aabf9d738ed2baf3d6db4dc34c2305fb"
   },
   "outputs": [],
   "source": [
    "submittion_df = create_submission(log_preds, learn.data)"
   ]
  },
  {
   "cell_type": "code",
   "execution_count": 27,
   "metadata": {
    "_uuid": "b79bc143bad95f10a19fd8ecbedea59212bf7d4a"
   },
   "outputs": [],
   "source": [
    "submittion_file = 'submission-4-with-restarts.csv'\n",
    "submittion_df.to_csv(submittion_file, index=False)"
   ]
  },
  {
   "cell_type": "code",
   "execution_count": 28,
   "metadata": {
    "_uuid": "72ab0cb8084e1a19180abc230cd298f5192d9739"
   },
   "outputs": [
    {
     "name": "stdout",
     "output_type": "stream",
     "text": [
      "           Image                                                 Id\n",
      "0  a82ba2f76.jpg  w_89f6097 new_whale w_6aab519 w_0531ad5 w_8e88f4f\n",
      "1  ab62db5a5.jpg  w_fdcaaa8 new_whale w_34d7623 w_6f7611c w_8f1069a\n",
      "2  6219200df.jpg  new_whale w_e096f02 w_4f9c015 w_e4a9205 w_0b10e7c\n",
      "3  0f3c1f2ca.jpg  new_whale w_d10d0c5 w_396c12b w_1a70f3a w_7d44896\n",
      "4  7d139670e.jpg  new_whale w_f602022 w_0531ad5 w_343f088 w_a6067a9\n",
      "(7960, 2)\n"
     ]
    }
   ],
   "source": [
    "print(submittion_df.head())\n",
    "print(submittion_df.shape)"
   ]
  },
  {
   "cell_type": "code",
   "execution_count": 29,
   "metadata": {
    "_uuid": "8567ebbab5c917f9d182c21362b202b632f2d058"
   },
   "outputs": [
    {
     "name": "stdout",
     "output_type": "stream",
     "text": [
      "100%|█████████████████████████████████████████| 498k/498k [00:02<00:00, 191kB/s]\n",
      "Successfully submitted to Humpback Whale Identification"
     ]
    }
   ],
   "source": [
    "!kaggle competitions submit -c humpback-whale-identification -f {submittion_file} -m \"learning with restarts\""
   ]
  },
  {
   "cell_type": "code",
   "execution_count": null,
   "metadata": {},
   "outputs": [],
   "source": []
  }
 ],
 "metadata": {
  "kernelspec": {
   "display_name": "Python 3",
   "language": "python",
   "name": "python3"
  },
  "language_info": {
   "codemirror_mode": {
    "name": "ipython",
    "version": 3
   },
   "file_extension": ".py",
   "mimetype": "text/x-python",
   "name": "python",
   "nbconvert_exporter": "python",
   "pygments_lexer": "ipython3",
   "version": "3.6.6"
  }
 },
 "nbformat": 4,
 "nbformat_minor": 1
}
